{
 "cells": [
  {
   "cell_type": "code",
   "execution_count": 1,
   "metadata": {},
   "outputs": [],
   "source": [
    "import matplotlib.pyplot as plt\n",
    "import numpy as np\n",
    "import CombineColors as CC\n",
    "from matplotlib import rcParams\n",
    "COLOR = 'white'\n",
    "rcParams['text.color'] = COLOR"
   ]
  },
  {
   "cell_type": "markdown",
   "metadata": {},
   "source": [
    "CombineColors.py\n",
    "\n",
    "The main purpose of the module is to visualize multiple grayscale channels, in a laying-over, blending, or additive manner (see below).\n",
    "\n",
    "It depends on the PIL image package.\n",
    "\n",
    "For colors, it takes color names in the default color list, or an uint8 (r,g,b) tuple (0, 255). Custome colors can also be added.\n",
    "\n",
    "1. \n",
    "\n",
    "    getcolornames( includeAbbr = True )\n",
    "\n",
    "\n",
    "You can get all default colors with getcolornames(). 8 basic channels (YMC, RGB and WB) also have abbreviations for convenience. (e.g. 'y' is the same as 'yellow.)\n",
    "\n",
    "Channels other than the 8 basic channels are selected in an attempt to be distinctive as well as color-blind friendly."
   ]
  },
  {
   "cell_type": "code",
   "execution_count": 2,
   "metadata": {},
   "outputs": [
    {
     "name": "stdout",
     "output_type": "stream",
     "text": [
      "['cyan', 'magenta', 'yellow', 'red', 'blue', 'green', 'perano', 'onahau', 'seagull', 'deco', 'primerose', 'pink', 'silver', 'apricot', 'teal', 'cerise', 'purple', 'olive', 'wine', 'sundance', 'white', 'black', 'c', 'm', 'y', 'r', 'b', 'g', 'w', 'd']\n",
      "['cyan', 'magenta', 'yellow', 'red', 'blue', 'green', 'perano', 'onahau', 'seagull', 'deco', 'primerose', 'pink', 'silver', 'apricot', 'teal', 'cerise', 'purple', 'olive', 'wine', 'sundance', 'white', 'black']\n"
     ]
    }
   ],
   "source": [
    "print(CC.getcolornames())\n",
    "print(CC.getcolornames(includeAbbr=False))"
   ]
  },
  {
   "cell_type": "markdown",
   "metadata": {},
   "source": [
    "2. \n",
    "\n",
    "    legendbar(c_dict = colors_default, width = 1)\n",
    "\n",
    "It generate a virticle matplotlib style colorbar. c_dict is a dictionary in the form {pagename: colorname} or {pagename: (r,g,b)}.\n",
    "\n",
    "You can use legendbar() without a color dictionaory to easily visualize all the default colors. Be sure to set a large pyplot figure size to unpack all the texts. The width argument doesn't really affect anything."
   ]
  },
  {
   "cell_type": "code",
   "execution_count": 3,
   "metadata": {},
   "outputs": [
    {
     "data": {
      "image/png": "[encoded data removed]",
      "text/plain": [
       "<Figure size 576x936 with 1 Axes>"
      ]
     },
     "metadata": {
      "needs_background": "light"
     },
     "output_type": "display_data"
    }
   ],
   "source": [
    "plt.figure(figsize = (8,13))\n",
    "CC.legendbar(width=1)\n",
    "plt.tight_layout()"
   ]
  },
  {
   "cell_type": "markdown",
   "metadata": {},
   "source": [
    "3. \n",
    "\n",
    "    Im = CombineColor(pages, pagecolors = {}, bg = 'black', mode = 'layer', palette = {}, addlegend = True, normalize = True, colors_default = colors_default):\n",
    "\n",
    "Returns a PIL image, which can be saved directly with Im.sage('filename.png'), or shown with plt.imshow(Im), or converted to np array by np.array(Im).\n",
    "\n",
    "    Inputs:\n",
    "        pages: either a dict {pagename : grayscale_data}, or a 3d np array stacked along the 3rd axis. type and range of the data is not limited.\n",
    "               pages will be numbered in legends if page names are not provided.\n",
    "\n",
    "        pagecolors: either a dict {pagename : colorname}, or a list/array of colornames. Channels not assigned colors will be colored automatically.\n",
    "               \n",
    "\n",
    "        bg: background color. Shown when all channels are 0 at this pixel. \n",
    "\n",
    "        mode: can be \"layer\", \"blend\" or \"add\".\n",
    "            layer: overlapped areas shown as the latest channel.\n",
    "            blend: overlapped areas shown as intermediate colors, as the colors are mixed. \n",
    "            add: overlapped areas shown as the added colors, as the colored beams add up as white light.\n",
    "\n",
    "        palette: a dict {colorname : (r, g, b)} for custome colors. rgb values are (0, 255). \n",
    "\n",
    "        addlegend: bool. whether adding legend at the bottom of the image. default = True. Helpful if generating standalong image. \n",
    "\n",
    "        normalize: bool. If true, each channel will be independently max-normalized to (0,1) first. default = True. (recommended)\n",
    "        \n",
    "        colors_default: Default palette. Set it to {} if only using custome colors."
   ]
  },
  {
   "cell_type": "markdown",
   "metadata": {},
   "source": [
    "MCY colors are great for \"blend\" mode (e.g., colocalization of proteins).\n",
    "\n",
    "RGB colors are fine for \"blend\" (because the RGB used are not pure RGB here) but not as good."
   ]
  },
  {
   "cell_type": "code",
   "execution_count": 4,
   "metadata": {},
   "outputs": [
    {
     "data": {
      "text/plain": [
       "Text(0.5, 0.98, 'Blend')"
      ]
     },
     "execution_count": 4,
     "metadata": {},
     "output_type": "execute_result"
    },
    {
     "data": {
      "image/png": "[encoded data removed]",
      "text/plain": [
       "<Figure size 1080x504 with 2 Axes>"
      ]
     },
     "metadata": {},
     "output_type": "display_data"
    }
   ],
   "source": [
    "colors_CMY = ['c','m','y']\n",
    "ims_CMY = {}\n",
    "f = 100\n",
    "n = len(colors_CMY) + 2\n",
    "for i, c in enumerate(colors_CMY):\n",
    "    im = np.zeros((n*f,n*f))\n",
    "    im[(i+1)*f:(i+2)*f,:] = 1\n",
    "    im[:, (i+1)*f:(i+2)*f] = 1\n",
    "    ims_CMY[c] = im\n",
    "\n",
    "colors_RGB = ['r','g','b']\n",
    "f = 100\n",
    "n = len(colors_RGB) + 2\n",
    "ims_RGB = np.zeros((f*n,f*n, len(colors_RGB) ))\n",
    "for i, c in enumerate(colors_RGB):\n",
    "    im = np.zeros((n*f,n*f))\n",
    "    im[(i+1)*f:(i+2)*f,:] = 1\n",
    "    im[:, (i+1)*f:(i+2)*f] = 1\n",
    "    ims_RGB[:,:,i] = im\n",
    "\n",
    "plt.figure(facecolor=(0,0,0), figsize=(15,7))\n",
    "plt.subplot(121)\n",
    "plt.imshow(CC.CombineColor(pages = ims_CMY, pagecolors={c:c for c in colors_CMY}, mode='blend')) # ims_CMY is a dict, pagecolors is a dict\n",
    "CC.axisoff()\n",
    "CC.whiteframe()\n",
    "plt.subplot(122)\n",
    "plt.imshow(CC.CombineColor(pages = ims_RGB, pagecolors=colors_RGB, mode='blend')) # imc_RGB is a 3D array, pagecolors is a list. \n",
    "#(It has to be a list if pages doesn't have keys, or otherwise colors will be assigned from top of the default list.)\n",
    "CC.axisoff()\n",
    "CC.whiteframe()\n",
    "plt.suptitle('Blend')\n"
   ]
  },
  {
   "cell_type": "markdown",
   "metadata": {},
   "source": [
    "In \"add\" mode, overlapping colors will easily end up being zero. RGB works better than CMY in this case."
   ]
  },
  {
   "cell_type": "code",
   "execution_count": 5,
   "metadata": {},
   "outputs": [
    {
     "data": {
      "text/plain": [
       "Text(0.5, 0.98, 'Add')"
      ]
     },
     "execution_count": 5,
     "metadata": {},
     "output_type": "execute_result"
    },
    {
     "data": {
      "image/png": "[encoded data removed]",
      "text/plain": [
       "<Figure size 1080x504 with 2 Axes>"
      ]
     },
     "metadata": {},
     "output_type": "display_data"
    }
   ],
   "source": [
    "plt.figure(facecolor=(0,0,0), figsize=(15,7))\n",
    "plt.subplot(121)\n",
    "plt.imshow(CC.CombineColor(pages = ims_CMY, pagecolors={c:c for c in colors_CMY}, mode='add'))\n",
    "CC.axisoff()\n",
    "plt.subplot(122)\n",
    "plt.imshow(CC.CombineColor(pages = {f'page {i}': ims_RGB[:,:,i] for i,c in enumerate(colors_RGB)}, pagecolors={f'page {i}': c for i,c in enumerate(colors_RGB)}, mode='add'))\n",
    "CC.axisoff()\n",
    "plt.suptitle('Add')"
   ]
  },
  {
   "cell_type": "markdown",
   "metadata": {},
   "source": [
    "In \"layer\" mode, the pages are stacked on each other without blending.\n",
    "\n",
    "Below example shows when only some of the pages are provided with a color, the other pages will be assigned from top of color list. (it happens to be the order of CMY)"
   ]
  },
  {
   "cell_type": "code",
   "execution_count": 6,
   "metadata": {},
   "outputs": [
    {
     "data": {
      "text/plain": [
       "Text(0.5, 0.98, 'Layer')"
      ]
     },
     "execution_count": 6,
     "metadata": {},
     "output_type": "execute_result"
    },
    {
     "data": {
      "image/png": "[encoded data removed]",
      "text/plain": [
       "<Figure size 1080x504 with 2 Axes>"
      ]
     },
     "metadata": {},
     "output_type": "display_data"
    }
   ],
   "source": [
    "plt.figure(facecolor=(0,0,0), figsize=(15,7))\n",
    "plt.subplot(121)\n",
    "plt.imshow(CC.CombineColor(pages = ims_CMY, pagecolors={'y':'yellow'}, mode='layer'))\n",
    "CC.axisoff()\n",
    "plt.subplot(122)\n",
    "plt.imshow(CC.CombineColor(pages = {f'page {i}': ims_RGB[:,:,i] for i,c in enumerate(colors_RGB)}, \n",
    "                            pagecolors={f'page {i}': c for i,c in enumerate(colors_RGB)}, \n",
    "                            mode='layer'))\n",
    "CC.axisoff()\n",
    "plt.suptitle('Layer')"
   ]
  },
  {
   "cell_type": "markdown",
   "metadata": {},
   "source": [
    "\"Layer\" mode is useful in cases where each pixel is solid and for sure to have only one color (e.g, annotation map)\n",
    "\n",
    "Here is a demo generating such an annotaion map."
   ]
  },
  {
   "cell_type": "code",
   "execution_count": 7,
   "metadata": {},
   "outputs": [
    {
     "name": "stdout",
     "output_type": "stream",
     "text": [
      "Index(['Unnamed: 0', 'Tile', 'Class'], dtype='object')\n"
     ]
    }
   ],
   "source": [
    "import pandas as pd\n",
    "df = pd.read_csv('4731065_classes.csv')\n",
    "print(df.columns)\n"
   ]
  },
  {
   "cell_type": "code",
   "execution_count": 8,
   "metadata": {},
   "outputs": [
    {
     "name": "stdout",
     "output_type": "stream",
     "text": [
      "['Broad normal dermis' 'Eccrine' 'Epidermotropism' 'Fat'\n",
      " 'Folliculotropism' 'Lymphoma' 'Unannotated']\n",
      "['cyan', 'magenta', 'yellow', 'red', 'blue', 'green', 'perano', 'onahau', 'seagull', 'deco', 'primerose', 'pink', 'silver', 'apricot', 'teal', 'cerise', 'purple', 'olive', 'wine', 'sundance', 'white', 'black']\n"
     ]
    }
   ],
   "source": [
    "X = [int(c.split('_')[0]) for c in df['Tile']]\n",
    "Y = [int(c.split('_')[1]) for c in df['Tile']]\n",
    "classes = np.unique(df.Class)\n",
    "print(classes)\n",
    "print(CC.getcolornames(False))"
   ]
  },
  {
   "cell_type": "code",
   "execution_count": 9,
   "metadata": {},
   "outputs": [],
   "source": [
    "padding = 10\n",
    "xmin = max(np.min(X) - padding, 0)\n",
    "ymin = max(np.min(Y) - padding, 0)\n",
    "X = X - xmin\n",
    "Y = Y - ymin\n",
    "xmax = np.max(X) + padding\n",
    "ymax = np.max(Y) + padding\n",
    "\n",
    "classes_dict = {}\n",
    "for t in classes:\n",
    "    mat = np.zeros((xmax, ymax))\n",
    "    x = X[df.Class == t]\n",
    "    y = Y[df.Class == t]\n",
    "    mat[x, y] = 1\n",
    "    classes_dict[t] = mat\n"
   ]
  },
  {
   "cell_type": "code",
   "execution_count": 18,
   "metadata": {},
   "outputs": [
    {
     "data": {
      "image/png": "[encoded data removed]",
      "text/plain": [
       "<Figure size 648x432 with 2 Axes>"
      ]
     },
     "metadata": {},
     "output_type": "display_data"
    }
   ],
   "source": [
    "# make_axes_locatable is used to set sizes for the legend bar\n",
    "from mpl_toolkits.axes_grid1 import make_axes_locatable\n",
    "\n",
    "class_colors = {\n",
    "    'Unannotated': 'silver',\n",
    "    'Broad normal dermis': 'onahau',\n",
    "    'Eccrine': 'teal',\n",
    "    'Epidermotropism': 'pink',\n",
    "    'Fat': 'deco',\n",
    "    'Folliculotropism': 'wine',\n",
    "    'Lymphoma': 'cerise',\n",
    "}\n",
    "\n",
    "plt.figure(figsize=(9,6), facecolor='white')\n",
    "Im = CC.CombineColor(pages = classes_dict, \n",
    "                pagecolors = class_colors, bg ='white', mode = 'layer', addlegend=False )\n",
    "plt.imshow(Im)\n",
    "CC.axisoff()\n",
    "divider = make_axes_locatable(plt.gca())\n",
    "cax2 = divider.append_axes(\"right\", size=\"18%\", pad=0.1)\n",
    "CC.legendbar(class_colors)\n"
   ]
  },
  {
   "cell_type": "code",
   "execution_count": null,
   "metadata": {},
   "outputs": [],
   "source": []
  }
 ],
 "metadata": {
  "interpreter": {
   "hash": "be8cd8ecf1b89f58bf6371c59f3179339c749af2799dde43d6dd20b5ce33b830"
  },
  "kernelspec": {
   "display_name": "Python 3.8.5 64-bit ('base': conda)",
   "name": "python3"
  },
  "language_info": {
   "codemirror_mode": {
    "name": "ipython",
    "version": 3
   },
   "file_extension": ".py",
   "mimetype": "text/x-python",
   "name": "python",
   "nbconvert_exporter": "python",
   "pygments_lexer": "ipython3",
   "version": "3.8.5"
  },
  "orig_nbformat": 4
 },
 "nbformat": 4,
 "nbformat_minor": 2
}
